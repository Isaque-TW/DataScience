{
  "nbformat": 4,
  "nbformat_minor": 0,
  "metadata": {
    "colab": {
      "provenance": []
    },
    "kernelspec": {
      "name": "python3",
      "display_name": "Python 3"
    },
    "language_info": {
      "name": "python"
    }
  },
  "cells": [
    {
      "cell_type": "markdown",
      "source": [
        "# **ESTRUTURA DO PROJETO**"
      ],
      "metadata": {
        "id": "2fWzZ2tHhv4v"
      }
    },
    {
      "cell_type": "markdown",
      "source": [
        "**PASSO 1 - Importar as bibliotecas necessárias**"
      ],
      "metadata": {
        "id": "9kNJ9mk_erCH"
      }
    },
    {
      "cell_type": "code",
      "source": [
        "# A biblioteca \"os\" do Python oferece um conjunto de funções que permite interagir com o sistema operacional para realizar tarefas como manipulação de arquivos e diretórios, obtenção de informações do sistema, etc. Cria/remove pastas/arquivos renomeia\n",
        "# Importando HTML para usar dentro do contexto do Google Collab que é Web. Livro especifico IPython.display que é usado para o retorno/display que costumamos usar.\n",
        "import os\n",
        "import pandas as pd\n",
        "from IPython.display import HTML\n",
        "import plotly.express as px\n",
        "import seaborn as sns # Biblioteca de gráfico\n",
        "import numpy as np # O numpy é uma biblioteca do Python utilizada para realizar operações"
      ],
      "metadata": {
        "id": "HVFqQkua9LWo"
      },
      "execution_count": null,
      "outputs": []
    },
    {
      "cell_type": "markdown",
      "source": [
        "**PASSO 2 - Percorrer todos os arquivos (planilhas) existentes dentro de uma pasta no Google Drive**"
      ],
      "metadata": {
        "id": "Ewb8Waoye6mo"
      }
    },
    {
      "cell_type": "code",
      "source": [
        "from google.colab import drive\n",
        "drive.mount('/content/drive')"
      ],
      "metadata": {
        "id": "9hndjMoc_gh1"
      },
      "execution_count": null,
      "outputs": []
    },
    {
      "cell_type": "code",
      "source": [
        "# Biblioteca usada para percorrer todos os arquivos/planilhas existentes dentro de uma pasta no Google Drive. Acessa o Google Drive e traz uma relação/lista de todas as planilhas que queremos trabalhar. -Manipulando o sistema: Google Drive- listdir=listDiretório\n",
        "# Lista o caminho/diretorio e armazena dentro da variável lista_planilhas\n",
        "lista_planilhas = os.listdir('/content/drive/MyDrive/Python para Ciência de Dados/Projeto2/Arquivos')\n",
        "display(lista_planilhas)"
      ],
      "metadata": {
        "id": "zFSqqpJp9_Ik",
        "collapsed": true
      },
      "execution_count": null,
      "outputs": []
    },
    {
      "cell_type": "markdown",
      "source": [
        "**PASSO 3 - Importar todos os arquivos (planilhas) de vendas e unificá-las numa única tabela (DataFrame) no Pandas**"
      ],
      "metadata": {
        "id": "T7UjSRV_f1Uv"
      }
    },
    {
      "cell_type": "code",
      "source": [
        "total_vendas = pd.DataFrame() # Transformando a variavel como unica/DataFrame tabela virtual. Concatena todas as informações que tabela = pd for recuperado e armazenando aqui\n",
        "for planilha in lista_planilhas:\n",
        "  if 'Vendas' in planilha:\n",
        "    # print(planilha)\n",
        "    # print(f'/content/drive/MyDrive/Python para Ciência de Dados/Projeto2/Arquivos{planilha}')\n",
        "    tabela = pd.read_csv(f'/content/drive/MyDrive/Python para Ciência de Dados/Projeto2/Arquivos/{planilha}') # Dessa forma, todas as tabelas não estão no Frame, não tem mais na memória, ele mostra em tempo de execução ou seja quando estava acessando as linhas. Só fica a ultima de SP, fora do if\n",
        "    total_vendas = pd.concat([total_vendas, tabela]) # Concatena como um for, tabela e depois total vendas\n",
        "\n",
        "display(total_vendas)"
      ],
      "metadata": {
        "id": "i8hJqH1asVw9",
        "collapsed": true
      },
      "execution_count": null,
      "outputs": []
    },
    {
      "cell_type": "markdown",
      "source": [
        "**PASSO 4 - Importar todos os arquivos (planilhas) de devoluções e unificá-las numa única tabela (DataFrame) no Pandas**"
      ],
      "metadata": {
        "id": "PY5wCsMVf82o"
      }
    },
    {
      "cell_type": "code",
      "source": [
        "total_devolucoes = pd.DataFrame()\n",
        "for planilha in lista_planilhas:\n",
        "  if 'Devolucoes' in planilha:\n",
        "    tabela = pd.read_csv(f'/content/drive/MyDrive/Python para Ciência de Dados/Projeto2/Arquivos/{planilha}')\n",
        "    total_devolucoes = pd.concat([total_devolucoes, tabela])\n",
        "\n",
        "display(total_devolucoes)"
      ],
      "metadata": {
        "collapsed": true,
        "id": "szPlbwosN0u8"
      },
      "execution_count": null,
      "outputs": []
    },
    {
      "cell_type": "markdown",
      "source": [
        "# **INDICADORES**"
      ],
      "metadata": {
        "id": "k9fw3DRMgIPo"
      }
    },
    {
      "cell_type": "markdown",
      "source": [
        "**1.0 - QUANTIDADE DE VENDAS LÍQUIDAS:**\n",
        "\n",
        "**Objetivo:** Identificar os 3 produtos e as 3 lojas que estão gerando mais vendas."
      ],
      "metadata": {
        "id": "_E1NoS7PgQwI"
      }
    },
    {
      "cell_type": "code",
      "source": [
        "quantidade_produto_vl = total_vendas[['SKU', 'Produto', 'Quantidade']].groupby(['SKU', 'Produto']).sum().sort_values(by='Quantidade', ascending=False) # Filtragem duas chaves [[]] Fazer agrupamento, ou seja manter uma unica linha de Tv, iPhone...e os SKU TB, por se repetirem/id/do/item/. .groupby com as colunas que quer fazer agrupamento/ .sort_values para ordernar by/por coluna que respeitará a ordem/criterio/ 'Quantidade', ascending=False) para ser falso do menor para o maior, sendo verdadiro do maior para menor.\n",
        "quantidade_loja_vl = total_vendas[['Loja', 'Quantidade']].groupby('Loja').sum().sort_values(by='Quantidade', ascending=False)\n",
        "\n",
        "display(HTML('<h2>Quantidade de vendas líquidas por produto:</h2>'))\n",
        "display(quantidade_produto_vl.head(3)) # Metodo head para definir a quantidade de linhas\n",
        "\n",
        "display(HTML('<br /><hr /><br />')) # Quebra de linha e linha de separação <hr />\n",
        "\n",
        "display(HTML('<h2>Quantidade de vendas líquidas por Loja:</h2>'))\n",
        "display(quantidade_loja_vl.head(3))"
      ],
      "metadata": {
        "collapsed": true,
        "id": "SAjKj2HnVWvf"
      },
      "execution_count": null,
      "outputs": []
    },
    {
      "cell_type": "code",
      "source": [
        "# Gráfico de Pizza ou Torta\n",
        "\n",
        "# O gráfico de Pizza é chamada de pie, então pegamos a biblioteca representada por px.pie\n",
        "# Colocamos dentro de uma variável para armazenar. - Passamos como parâmetro dentro do pie(o tipo de dados) (o eixo X e o eixo Y) Passamos a tabela correta quantidade_produto_vl- Atentar para não usar multiplos index para não dar erro. - / Passamos o cara que queremos buscar, no caso 'Produto' e Resetamos para retirar o index ficando uma tabela simples.\n",
        "grafico1 = px.pie(quantidade_produto_vl.reset_index(), names='Produto', values='Quantidade', title='Quantidade de vendas líquidas por produtos')\n",
        "\n",
        "# Update grafico para mexer com textos/valores e posições do grafico. Usando o MÉTODO update traces, passando textposition que é a posição do texto- Ele aceita 3 valores, que é o 'inside' que os valores ficam dentro do gráfico e o 'outside' que manda os valores pra fora e tem o 'auto' automático que avalia a proporção e decide. - / Outro parâmetro interessante é o textindo='label+percent que consegue mostrar o tipod de dados que queremos exibir dentro do grafico, no caso o nome do produto e a porcentagem.\n",
        "grafico1.update_traces(textposition='inside', textinfo='label+percent')\n",
        "grafico1.show()\n",
        "\n",
        "# Gráfico de Barra\n",
        "grafico2 = px.bar(quantidade_loja_vl.reset_index(), x='Loja', y='Quantidade', title='Quantidade de vendas líquidas por Loja', color='Quantidade')\n",
        "grafico2.show()"
      ],
      "metadata": {
        "id": "GddFxPyYYJyX"
      },
      "execution_count": null,
      "outputs": []
    },
    {
      "cell_type": "markdown",
      "source": [
        "### Personalização do Gráfico\n",
        "\n",
        "Como por exemplo mudar a cor das Barras, deixar intercalados.\n",
        "\n",
        "Criamos uma Variável para reservar= valor da biblioteca px.bar e depois segue padrão, recebendo tabela_personalizada(No exemplo, a tabela quantidade_loja_vl.)reset_index(), para retirar o index e tornar uma tabela simples já passando o nome, eixo x='Loja', eixo y='Quantidade'- Adicionamos title='Quantidade de vendas líquidas por loja'. - Passamos color='Quantidade' ou Loja para diferenciar as cores entre barras.\n",
        "\n",
        "### Para exibir por filtragem, como por exemplo exibir os 3 maiores indicadores: Quantidade de vendas líquidas por produto: Utilizamos o head(3) do display direto na tabela de montagem ('QUANTIDADE DE VENDAS LIQUIDAS) Retiramos do display o head(3) da display(quantidade_produto_vl) e Colocamos na Principal. Na parte que faz o somatório e a ordenação."
      ],
      "metadata": {
        "id": "pG2Xt_LQ2wwa"
      }
    },
    {
      "cell_type": "markdown",
      "source": [
        "**1.1 - QUANTIDADE DE VENDAS BRUTAS:**\n",
        "\n",
        "**Objetivo:** Identificar os 3 produtos e as 3 lojas que estão gerando mais vendas."
      ],
      "metadata": {
        "id": "9s1N930LgUxY"
      }
    },
    {
      "cell_type": "code",
      "source": [
        "# Trabalhando com as duas tabelas: total_vendas e total_devolucoes, de total de vendas BRUTAS, DAS QUAIS TB TIVERAM DEVOLUCOES. Pra isso teremos que concatenar as duas-usando funções do panda pd.concat/ Passando a variavel para dataFrame diretamente como abaixo.\n",
        "\n",
        "# Variavel definida para representar o primeiiro item que vamos buscar- = pd.dataFrame(ja transforma num dataFrame) aí usa a função concat  e dentro da função concat define entre parentes as duas tabelas, que vai ser: total_vendas concatenado com total_devolucoes. Agrupados poor groupby 'SKU' 'Produto' ao rodar disppllay ja agrupa por SKU e Produto e já fez a somatória de todas colunas porque o sum()já faz isso em todas que for numérica. isso é u agrupamento com um filtro, fora do groupby ['Quantidade'] trazendo as duas colunas + quantidade, trazendo o somatório apenas da coluna Quantidade\n",
        "quantidade_produto_vb = pd.DataFrame(pd.concat([total_vendas, total_devolucoes]).groupby(['SKU', 'Produto'])['Quantidade'].sum()).sort_values(by='Quantidade', ascending=False)\n",
        "# .sort_values para ordenar de acordo como desejar, by/por coluna + ascending\n",
        "quantidade_loja_vb = pd.DataFrame(pd.concat([total_vendas, total_devolucoes]).groupby(['Loja'])['Quantidade'].sum()).sort_values(by='Quantidade', ascending=False)\n",
        "\n",
        "display(HTML('<h2>Quantidade de vendas brutas dos 3 principais produtos:</h2>'))\n",
        "display(quantidade_produto_vb.head(3))\n",
        "\n",
        "display(HTML('<br /><hr /><br />'))\n",
        "\n",
        "display(HTML('<h2>Quantidade de vendas brutas das 3 principais lojas:</h2>'))\n",
        "display(quantidade_loja_vb.head(3))\n"
      ],
      "metadata": {
        "id": "rqrg_GDHTyKm"
      },
      "execution_count": null,
      "outputs": []
    },
    {
      "cell_type": "code",
      "source": [
        "# Gráfico de Barra\n",
        "\n",
        "grafico3 = px.bar(\n",
        "    quantidade_produto_vb.reset_index(),\n",
        "    x='Produto',\n",
        "    y='Quantidade',\n",
        "    title='Quantidade de vendas brutas por produto',\n",
        "    color='Produto'\n",
        ")\n",
        "\n",
        "grafico3.update_xaxes(categoryorder='total descending') # Definindo a ordem de aparição do GRÁFICO.\n",
        "grafico3.update_layout(# Personalizando backgroud do gráfico\n",
        "    plot_bgcolor='rgba(0.2, 0.3, 0.3, 0.7)',\n",
        "    paper_bgcolor='rgba(0, 0, 0, 0.5)',\n",
        "    font_color='white'\n",
        ")\n",
        "\n",
        "grafico3.show()\n",
        "\n",
        "grafico4 = px.bar(\n",
        "    quantidade_loja_vb.reset_index(),\n",
        "    x='Loja',\n",
        "    y='Quantidade',\n",
        "    title='Quantidade de vendas brutas por loja',\n",
        "    color='Loja'\n",
        ")\n",
        "\n",
        "# Grafico4.update, configurando os \"Eixos, XHori, YVert\" das informações\n",
        "# Xaxis é referente ao eixo X, tratado como pai, e o que está dentro temos uma propriedade/categoria e dentro dela temos o FILHO\n",
        "grafico4.update_layout(\n",
        "    xaxis={ # Propriedade xaxis que podemos mexer nas configurações do eixo X, representa os estados/lojas e Loja. - Uma estrutura como o JSON(FORMATO DE TEXTO LEVE PARA TROCA DE DADOS)\n",
        "        'tickfont': {\n",
        "            'color': 'blue',\n",
        "            'size': 14\n",
        "\n",
        "        },\n",
        "        'title':{\n",
        "            'text': 'Eixo x',\n",
        "            'font': {\n",
        "                'color': 'red',\n",
        "                'size': 18\n",
        "            }\n",
        "        }\n",
        "    },\n",
        "    yaxis={\n",
        "        'tickfont': {\n",
        "            'color': 'black',\n",
        "            'size': 14\n",
        "        },\n",
        "        'title': {\n",
        "            'text': 'Eixo Y',\n",
        "            'font': {\n",
        "                'color': 'green',\n",
        "                'size': 15\n",
        "            }\n",
        "        }\n",
        "    }\n",
        ")\n",
        "\n",
        "grafico4.show()"
      ],
      "metadata": {
        "id": "OW372GrsgR9h"
      },
      "execution_count": null,
      "outputs": []
    },
    {
      "cell_type": "markdown",
      "source": [
        "**1.2 - QUANTIDADE DE DEVOLUÇÕES:**\n",
        "\n",
        "**Objetivo:** Identificar os 3 produtos e as 3 lojas que estão gerando mais devoluções."
      ],
      "metadata": {
        "id": "Prvgf59kgZCA"
      }
    },
    {
      "cell_type": "code",
      "source": [
        "quantidade_produto_d = total_devolucoes[['Produto', 'Quantidade']].groupby(['Produto']).sum().sort_values(by='Quantidade', ascending=False)\n",
        "\n",
        "quantidade_loja_d = total_devolucoes[['Loja', 'Quantidade']].groupby(['Loja']).sum().sort_values(by='Quantidade', ascending=False)\n",
        "\n",
        "display(HTML('<h2>Quantidade de devoluções dos 3 principais produtos:</h2>'))\n",
        "display(quantidade_produto_d.head(3))\n",
        "\n",
        "display(HTML('<br /><hr /><br />'))\n",
        "\n",
        "display(HTML('<h2>Quantidade de devoluções das 3 principais lojas:</h2>'))\n",
        "display(quantidade_loja_d.head(3))"
      ],
      "metadata": {
        "collapsed": true,
        "id": "Nd98kjieT7kd"
      },
      "execution_count": null,
      "outputs": []
    },
    {
      "cell_type": "code",
      "source": [
        " # Criando DataFrame para GRÁFICO com base nos DataFrames originais\n",
        "quantidade_produto_d_grafico = pd.DataFrame(\n",
        "    {\n",
        "        'Categoria': quantidade_produto_d.index,\n",
        "        'Quantidade': quantidade_produto_d['Quantidade'],\n",
        "        'Tipo': ['Produto'] * len(quantidade_produto_d)\n",
        "    }\n",
        ") # Estrutura nome da coluna + informação que desejamos.\n",
        "# Criando 3 colunas 'Categoria', 'Quantidade', 'Tipo'\n",
        "# Coluna 'Categoria' passaremos informação 'Produto' mas com 1 index apenas, excluindo SKU.\n",
        "# Coluna 'Quantidade' será a tabela quantidade pegando a colun ['Quantidade']\n",
        "# Coluna 'Tipo' Definindo tanto a Coluna Produto como Loja ficarão dentro de uma coluna NOVA chamada Categooria, fazendo relação de duas informações/ Produto será incluído tantas * o numero de linhas, o len vai pegar o Produto e multiplicar por 7 vezes/linhas.\n",
        "\n",
        "quantidade_loja_d_grafico = pd.DataFrame(\n",
        "    {\n",
        "        'Categoria': quantidade_loja_d.index,\n",
        "        'Quantidade': quantidade_loja_d['Quantidade'],\n",
        "        'Tipo': ['Loja'] * len(quantidade_loja_d)\n",
        "    }\n",
        ")\n",
        "\n",
        "# Concatenar os DataFrames\n",
        "df_concatenado = pd.concat([quantidade_produto_d_grafico, quantidade_loja_d_grafico])\n",
        "\n",
        "# Plotar o gráfico de barras horizontais\n",
        "cores = {'Produto': 'blue', 'Loja': '000000'}\n",
        "grafico5 = sns.barplot(data=df_concatenado, x='Quantidade', y='Categoria', hue='Tipo', orient='h', palette=cores)\n",
        "grafico5.set_title('Quantidade de Devoluçòes por Produto e por loja')\n",
        "#grafico5.set_xlabel('Rótulo do Eixo X')\n",
        " #grafico5.set_ylabel('Rótulo do Eixo Y')\n",
        "\n"
      ],
      "metadata": {
        "id": "BN5dSPHPtN5m"
      },
      "execution_count": null,
      "outputs": []
    },
    {
      "cell_type": "markdown",
      "source": [
        "**2.0 - ANÁLISE DE SAZONALIDADE:**\n",
        "\n",
        "**Objetivo:** Calcular a variação das vendas dos produtos por mês."
      ],
      "metadata": {
        "id": "MOR7YRztCuzH"
      }
    },
    {
      "cell_type": "code",
      "source": [
        "# Trabalhando com data- Temos uma função do pandas que é pd.to_datetime para fazer uma formatação de uma data, então ele pede como primeiro parametro a data e como segundo parametro o tipo de formatação que quero especificar.\n",
        "\n",
        "data_formatada = pd.to_datetime(total_vendas['Data'], format='%m/%d/%Y')\n",
        "\n",
        "# Variavel venda_mensal que recebe uma tabela com data formatada concatenando com coluna de Quantidade- / Conceito novo dentro do DataFrame e abrir uma estrutura que precisa estar entre chaves{} /- Dentro da variavel venda_mensal, estou criando uma NOVA tabela, um novo DataFrame, passando na coluna 'Data' a data_formatada, ou seja a data organizada/formatada. - / E a 'Quantidade' vai receber a informação que é total_vendas pegando a coluna 'Quantidade'e atribuindo-a\n",
        "vendas_mensais = pd.DataFrame(\n",
        "    {\n",
        "        'Data': data_formatada,\n",
        "        'Quantidade': total_vendas['Quantidade']\n",
        "    }\n",
        ")# Montando um novo DataFrame onde eu estou pegando todas as informações cereais, contidas em data_formatada e estou pegando todas as informações da coluna 'Quantidade' da tabela total_vendas/coluna['Quantidade'] e passando para a nova coluna< Ou seja, estou pegando duas colunas pegando a tada formatada e uma outra coluna quantidade que está pegando da outra tabela total_vendas que tb tem 'Quantidade'\n",
        "\n",
        "# Pegando o DataFrame acima, e construindo um novo e definindo a coluna 'Data' como index- adc MÉTODO .resample, usado para trabalhar com datas passando como parametro a letra 'M'porque quero que agrupe baseado no Mes/Month + sum() somar /\n",
        "vendas_mensais = vendas_mensais.set_index('Data').resample('M').sum()\n",
        "\n",
        "vendas_mensais.index = vendas_mensais.index.strftime('%b/%Y')\n",
        "# + vendas_mensais.index (mudando direto na tabela) quero passar uma nova formatação, = ela propria, passando uma função, do pandas, chamada .strftime() que transforma formatação excluindo o que não for usar. anulando o dia\n",
        "\n",
        "vendas_mensais['Variacao'] = vendas_mensais['Quantidade'].diff()\n",
        "# Criando uma nova coluna para comparar a diferença de um mês para o outro, usando o método .diff() ele calcula a diferença entre um valor e o valor anterior numa série de dados. o diff que faz esse calculo, ele que vai ta sempre comparando um mes atual com o anterior. aumento comparado ao anterior,  decréscimo- Chamamos de Variação.- Só compara o ano completo, ou seja de janeiro para dezembro passado não pega e cpm isso ele retorna o NaN é a sigla para \"Not a Number\" (Não é um Número). É a forma que o Pandas e outras bibliotecas no ecossistema Python usam para indicar valores faltantes ou ausentes em um conjunto de dados.\n",
        "display(HTML('<h2>Variação da quantidade de produtos vendidos por mês:</h2>'))\n",
        "display(vendas_mensais)\n",
        "\n",
        "# !! IMPORTANTE !! TODA TABELA PANDA PRECISA TER UM INDEX/INDICE, QUE É A CHAVE A INFORMAÇÀO PRINCIPAL, IGUAL POR EXEMPLO, QUANDO DEFINIMOS ANTERIORMENTE, SKU É UM INDEX, PRODUTO É UM INDEX. - INFORMAÇÕES CHAVE QUE UTILIZAMOS PARA FAZER BUSCAS E CONSULTAS.\n",
        "\n",
        "# NO NOSSO CASO, PRECISAREMOS COLOCAR A COLUNA Data COMO INDEX QUE SERÁ ATRAVÉS DELA QUE FAREMOS TODO O PROCESSO DE AGRUPAMENTO.\n"
      ],
      "metadata": {
        "id": "0fNcyS-qaRHI",
        "collapsed": true
      },
      "execution_count": null,
      "outputs": []
    },
    {
      "cell_type": "code",
      "source": [
        "# Gráfico de linha\n",
        "text_color = np.where(vendas_mensais['Variacao'] < 0, 'red', 'green')\n",
        "# Text_color recebe = np(biblioteca)+ .where metodo condicional + Dataframe(tabela)(vendas_mensais) + coluna (['variacao'] se essa informação é < 0, 'red', caso contrario, 'green')\n",
        "\n",
        "grafico6 = px.line(vendas_mensais.reset_index(), x='Data', y='Quantidade', title='Vendas Mensais x Sazonalidades', markers=True, text=vendas_mensais['Quantidade'])\n",
        "grafico6.update_traces(textposition='top center', textfont=dict(color=text_color, size=15), marker=dict(color=text_color)) # (textposition='top/middle/botton- disposicção horizontal center/right/left)\n",
        "\n",
        "\n",
        "grafico6.show()\n"
      ],
      "metadata": {
        "id": "K3saIW7hyp1o"
      },
      "execution_count": null,
      "outputs": []
    },
    {
      "cell_type": "markdown",
      "source": [
        "### Gráfico concluído:\n",
        "- Aprendemos a usar uma nova biblioteca **NUMPY**\n",
        "- Método .Where para fazer seleções condicionais\n",
        "- Como utilizar um gráfico de linha grafico6 = px.line()\n",
        "- Como configurar a posição do texto 'top center'\n",
        "- Como alterar a cor do texto passando um dicionário text=dict(color=text_color,)\n",
        "- Alterando as cores do marcador com marker=dict"
      ],
      "metadata": {
        "id": "qH1XM1-iWHG-"
      }
    },
    {
      "cell_type": "markdown",
      "source": [
        "## Lições aprendidas na aula 2.0 - ANÁLISE DE SAZONALIDADE:\n",
        "\n",
        " Aprendemos a comparar um mês com o outro. Conseguindo obter um indicativo bem legal pra gente saber se há algum padrão que podemos observar de SAZONALIDADE de tendências. Previsibilidade para enxergar padrões.\n",
        "\n",
        " Recursos novos aprendidos: Formatação envolvendo Data, a própria função .to_datetime do pandas.\n",
        "\n",
        " Aprendemos como fazer a inserção de novas informações/ um novo DataFrame pegando Informação de outras tabelas.\n",
        "\n",
        " Aprendemos também a setar informações, criar um index em uma determinada coluna de um DataFrame.\n",
        "\n",
        " Aprendemos também a fazer agrupamento de meses já fazendo um somatório das informações.\n",
        "\n",
        " Depois aprendemos a mexer com outro tipo de formação utilizando a função strftime.\n",
        "\n",
        " E finalizando com a inserção de uma nova coluna já atribuindo um calculo realizado pelo método diff() que faz um calculo de um item para o outro."
      ],
      "metadata": {
        "id": "bZsmTeyOqpKl"
      }
    },
    {
      "cell_type": "markdown",
      "source": [
        "**2.1 - ANÁLISE DE FATURAMENTO TRIMESTRAL:**\n",
        "\n",
        "**Objetivo:** Calcular o faturamento trimestral do ano."
      ],
      "metadata": {
        "id": "YOojQBtLCyQX"
      }
    },
    {
      "cell_type": "code",
      "source": [
        "# Montando/criando um DataFrame que é a NOSSA TABELA do PANDAS(passando alguns cauculos na estrutura da tabela)\n",
        "\n",
        "# Tabela faturamento_trimestral que é um DataFrame com alguns ARGUMENTOS. - Uma estrutura: Coluna 'Data': data_formatada (que já havíamos criado). - /  Uma Coluna 'Quantidade': na tabela total_vendas[]'Quantidade'] - / Uma Coluna: 'Valor Unitário': na tabela total_vendas['Valor Unitário'], - / Uma Coluna 'Faturamento': recebe tabela_vendas['Quantidade'] * total_vendas['Valor Unitário']\n",
        "faturamento_trimestral = pd.DataFrame(\n",
        "    {\n",
        "        'Data': data_formatada,\n",
        "        'Quantidade': total_vendas['Quantidade'],\n",
        "        'Valor Unitário': total_vendas['Valor Unitário'],\n",
        "        'Faturamento': total_vendas['Quantidade'] * total_vendas['Valor Unitário'] # cria a coluna já aplicando o calculo lá dentro Quantidade multiplicado por Valor Unitário.\n",
        "    }\n",
        ")\n",
        "\n",
        "\n",
        "# .dt.to_period('Q')\n",
        "# Exemplos de valores possíveis:\n",
        "# 'D' para dias\n",
        "# 'W' para semanas\n",
        "# 'M' para meses\n",
        "# 'Q' para trimestres\n",
        "# 'Y' para anos\n",
        "faturamento_trimestral['Trimestre'] = faturamento_trimestral['Data'].dt.to_period('Q')\n",
        "# Criando uma nova Coluna dentro do DataFrame que vai fazer o agrupamento e dividir em 3, quarter/ Outra tabela. Jan/Fev/Marc Primeiro trimestre 'Q'\n",
        "# Faturamento trismestral pegando a Colua 'Data' para conseguir fazer o agrupamento USANDO o MÉTODO do PANDAS chamado .dt.to_period Passando 'Q' 'Y' etc...\n",
        "\n",
        "faturamento_trimestral = pd.DataFrame(faturamento_trimestral.groupby('Trimestre')['Faturamento'].sum())\n",
        "# Fazendo agrupamento faturamento_trimestral recebe ele mesmo com .groupby(coluna que quer agrupar) E PARA PEGAR APENAS UMA COLUNA/FAZER UM FILTRO, Adicionamos ['Faturamento'] antes do sum()\n",
        "\n",
        "display(HTML('<h2>Faturamento Trimestral:</h2>'))\n",
        "display(faturamento_trimestral)"
      ],
      "metadata": {
        "id": "hI4d4PvMh4CB"
      },
      "execution_count": null,
      "outputs": []
    },
    {
      "cell_type": "code",
      "source": [
        "# Testando o cálculo do diff()\n",
        "text_color = np.where(faturamento_trimestral['Faturamento'].diff() < 0, 'red', 'blue')\n",
        "display(text_color)"
      ],
      "metadata": {
        "id": "vkT26aKcqwJB"
      },
      "execution_count": null,
      "outputs": []
    },
    {
      "cell_type": "code",
      "source": [
        "# Gráfico de Área\n",
        "\n",
        "# Transformando coluna Trimestre em texto(string)-\n",
        "# Serializable de Dados é o processo de transformar estrutura de Dados, um objeto por exemplo em um formato que pode ser facilmente armazenado ou transmitido.\n",
        "faturamento_trimestral.index = faturamento_trimestral.index.astype(str)\n",
        "# Convertemos periodo/data que está agrupado em um texto simples. Pegamos o index e forçmos ela a ser astype o tipo str/string\n",
        "\n",
        "text_color = np.where(faturamento_trimestral['Faturamento'].diff() < 0, 'red', 'blue')\n",
        "# Reutilizando estrutura passando a biblioteca numpy onde temos o método/funcional where\n",
        "# Dessa vez não precisamos da coluna 'Variação' passamos indiretamente com diff().\n",
        "# Passamos tabela_trismestral na coluna [] 'Faturamento' e colocamos .diff() para fazer a variação.\n",
        "\n",
        "# Criando 7timo gráfico usando px(biblioteca Python)+ area nome do estilo do gráfico. Passando tabela_trimestral, resetando para tirar os index, passando no Eixo X a COLUNA Trimestre da tabela. -, Eixo Y para 'Faturamento' + title para o título e markers=True para fazer as marcações, as bolinhas.\n",
        "grafico7 = px.area(\n",
        "    faturamento_trimestral.reset_index(),\n",
        "    x='Trimestre',\n",
        "    y='Faturamento',\n",
        "    title='Faturamento Trimestral',\n",
        "    markers=True)\n",
        "\n",
        "# Editando o gráfico\n",
        "grafico7.update_layout(\n",
        "    xaxis_title='Título Eixo X',\n",
        "    yaxis_title='Título Eixo Y',\n",
        "    margin=dict(t=50, l=300, r=300, b=50), # Editando a margin com dict/dicionario\n",
        "    title=dict(x=0.5) # Eixo X na parte branca está 50%\n",
        ")\n",
        "\n",
        "# Personalização de Linhas, mudando as cores e preenchimento. fillcolor=preenchimento+cor\n",
        "grafico7.update_traces(\n",
        "    fillcolor='rgba(27, 239, 143, 0.2)', # 0.2 = 20% - 1 = 100%\n",
        "    line_color='rgba(27, 239, 143, 1)', # Red, Gren, Black, Alpha/opacidade/transparencia\n",
        "    marker=dict(color=text_color) # Marker com variavel armazena diff(faz a diferença) - < 0, 'red', 'blue')\n",
        ")\n",
        "\n",
        "grafico7.show()"
      ],
      "metadata": {
        "id": "THNHEypCWOxw"
      },
      "execution_count": null,
      "outputs": []
    },
    {
      "cell_type": "markdown",
      "source": [
        "### Gráfico de Área\n",
        "\n",
        "```\n",
        "Gráfico da tabela Trimestral e os valores:\n",
        "O gráfico de área é muito semelhante ao de linha,\n",
        "a diferença está na parte preenchida pra que possamos ver o volume.\n",
        "```\n",
        "Enquanto no gráfico de linha ele só mostra a linha, no gráfico de área ele mostra a área preenchida. Outra coisa que muda no gráfico de área é que, o gráfico de área já começa bem no início da área de plotagem(linda inicial do gráfico)\n",
        "\n",
        "#### Aprendizados:\n",
        "- Convertemos uma tabela que tem um index para type texto str/string\n",
        "- Utilizamos o método numpy para fazer seleção criteriosa\n",
        "- Aprendemos a utilizar o diff() para fazer o cálculo direto na tabela\n",
        "- Atribuição da propriedade margin com dict/dicionário\n",
        "- Propriedade titlle passando a centralização\n",
        "- Também aprendemos que é possível alterar o Eixo de fora do title e jogar para dentro do gráfico\n",
        "\n",
        "#### Aprendemos a utilizar ese grafico colocando algumas personalizações:\n",
        "- Muda a cor de preenchimento da Área\n",
        "- Definimos uma cor para a linha\n",
        "- Colocamos marcadores e definimos cores para esses\n",
        "- Critério para alterar a cor conforme ao volume/queda de faturamento - blue/red\n",
        "\n"
      ],
      "metadata": {
        "id": "iAiYGBN6Z78s"
      }
    },
    {
      "cell_type": "markdown",
      "source": [
        "## Aprendemos nessa aula a organizar os dados da melhor forma para visualização usando tags HTML utilizando a biblioteca IPython,"
      ],
      "metadata": {
        "id": "lrMwsSOwV-Z6"
      }
    }
  ]
}